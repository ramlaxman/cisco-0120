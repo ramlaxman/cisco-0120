{
 "cells": [
  {
   "cell_type": "code",
   "execution_count": 1,
   "metadata": {},
   "outputs": [],
   "source": [
    "# (1) Create a dictionary with the following keys:\n",
    "# - 'vowels'\n",
    "# - 'whitespace'\n",
    "# - 'consonants'\n",
    "# - 'other'\n",
    "\n",
    "# the values for each of these keys should be 0\n",
    "\n",
    "# (2) Ask the user to enter a filename\n",
    "\n",
    "# (3) Iterate over each line (aka for loop) in the file,\n",
    "# - and then iterate over (another for loop) \n",
    "#   each character in the line.\n",
    "\n",
    "# nested loops\n",
    "\n",
    "for one_item in big_thing:\n",
    "    for one_small_item in one_item:\n",
    "        pass\n",
    "        \n",
    "        \n",
    "for one_line in open(filename):\n",
    "    for one_character in one_line:\n",
    "        pass\n",
    "\n",
    "\n",
    "\n",
    "# (4) Test to see if the character is whitespace / vowel / consonant\n",
    "# if it's none of those, it's \"other\"\n",
    "# Add 1 to the score/count for the right type of character\n",
    "\n",
    "# 4 tests:\n",
    "\n",
    "if one_character in 'aeiou':\n",
    "elif one_character.isalpha()\n",
    "elif one_character.isspace()\n",
    "else:\n",
    "    \n",
    "\n",
    "\n",
    "# - whitespace -- check with the .isspace() method\n",
    "# - vowel -- check to see if it's in 'aeiou'\n",
    "# - consonant -- check to see if it's .isalpha()\n",
    "# - other -- anything else at all\n",
    "\n",
    "# (5) In the end, iterate over the dictionary, printing \n",
    "# the key and value for each type.  (if this is too hard,\n",
    "# then you can just print the dict)\n",
    "\n",
    "for key, value in d.items():\n",
    "    print('something')"
   ]
  },
  {
   "cell_type": "code",
   "execution_count": 2,
   "metadata": {},
   "outputs": [],
   "source": [
    "s = 'abc'"
   ]
  },
  {
   "cell_type": "code",
   "execution_count": 11,
   "metadata": {},
   "outputs": [
    {
     "name": "stdout",
     "output_type": "stream",
     "text": [
      "Please enter a filename: wcfile.txt\n",
      "vowels: 40\n",
      "whitespace: 33\n",
      "consonants: 76\n",
      "other: 16\n"
     ]
    }
   ],
   "source": [
    "myfiles = {'vowels':0, \n",
    "           'whitespace':0, \n",
    "           'consonants':0,\n",
    "           'other':0} \n",
    "\n",
    "filename = input('Please enter a filename: ')\n",
    "\n",
    "for one_line in open(filename):\n",
    "    for one_char in one_line:\n",
    "        if one_char.isspace():\n",
    "            myfiles['whitespace'] += 1 \n",
    "        elif one_char in \"aeiou\":\n",
    "            myfiles['vowels'] += 1\n",
    "        elif one_char.isalpha(): \n",
    "            myfiles['consonants'] += 1\n",
    "        else: \n",
    "            myfiles['other'] += 1\n",
    "\n",
    "for key, value in myfiles.items():\n",
    "    print(f'{key}: {value}')"
   ]
  },
  {
   "cell_type": "code",
   "execution_count": 6,
   "metadata": {},
   "outputs": [],
   "source": [
    "x = 'abcd'"
   ]
  },
  {
   "cell_type": "code",
   "execution_count": 7,
   "metadata": {},
   "outputs": [
    {
     "name": "stdout",
     "output_type": "stream",
     "text": [
      "abcd\n"
     ]
    }
   ],
   "source": [
    "print(x)"
   ]
  },
  {
   "cell_type": "code",
   "execution_count": 8,
   "metadata": {},
   "outputs": [
    {
     "ename": "NameError",
     "evalue": "name 'abcd' is not defined",
     "output_type": "error",
     "traceback": [
      "\u001b[0;31m---------------------------------------------------------------------------\u001b[0m",
      "\u001b[0;31mNameError\u001b[0m                                 Traceback (most recent call last)",
      "\u001b[0;32m<ipython-input-8-ce1394b9d4d9>\u001b[0m in \u001b[0;36m<module>\u001b[0;34m\u001b[0m\n\u001b[0;32m----> 1\u001b[0;31m \u001b[0mprint\u001b[0m\u001b[0;34m(\u001b[0m\u001b[0mabcd\u001b[0m\u001b[0;34m)\u001b[0m\u001b[0;34m\u001b[0m\u001b[0;34m\u001b[0m\u001b[0m\n\u001b[0m",
      "\u001b[0;31mNameError\u001b[0m: name 'abcd' is not defined"
     ]
    }
   ],
   "source": [
    "print(abcd)"
   ]
  },
  {
   "cell_type": "code",
   "execution_count": 9,
   "metadata": {},
   "outputs": [
    {
     "name": "stdout",
     "output_type": "stream",
     "text": [
      "abcd\n"
     ]
    }
   ],
   "source": [
    "print('abcd')"
   ]
  },
  {
   "cell_type": "code",
   "execution_count": 17,
   "metadata": {},
   "outputs": [
    {
     "name": "stdout",
     "output_type": "stream",
     "text": [
      "Whitespace: 0\n"
     ]
    }
   ],
   "source": [
    "dict = {'vowels':0, 'whitespace':0, 'consonants':0, 'others':0}\n",
    "print(f'Whitespace: {dict[\"whitespace\"]}')\n"
   ]
  },
  {
   "cell_type": "code",
   "execution_count": 15,
   "metadata": {},
   "outputs": [
    {
     "ename": "SyntaxError",
     "evalue": "invalid syntax (<ipython-input-15-fd669a9ed55f>, line 2)",
     "output_type": "error",
     "traceback": [
      "\u001b[0;36m  File \u001b[0;32m\"<ipython-input-15-fd669a9ed55f>\"\u001b[0;36m, line \u001b[0;32m2\u001b[0m\n\u001b[0;31m    print(f'Hello, {name}'s sister')\u001b[0m\n\u001b[0m                          ^\u001b[0m\n\u001b[0;31mSyntaxError\u001b[0m\u001b[0;31m:\u001b[0m invalid syntax\n"
     ]
    }
   ],
   "source": [
    "name = 'Reuven'\n",
    "print(f'Hello, {name}'s sister')"
   ]
  },
  {
   "cell_type": "code",
   "execution_count": 18,
   "metadata": {},
   "outputs": [],
   "source": [
    "del(dict)"
   ]
  },
  {
   "cell_type": "code",
   "execution_count": null,
   "metadata": {},
   "outputs": [],
   "source": [
    "# for loop on ...   gives you this with each iteration:\n",
    "\n",
    "# string            character\n",
    "# list              element of the list\n",
    "# tuple             element of the tuple\n",
    "# dict              key\n",
    "# dict.items()      both a key and a value\n",
    "# file              a line (string), up to and including the next \\n\n"
   ]
  },
  {
   "cell_type": "code",
   "execution_count": 19,
   "metadata": {},
   "outputs": [],
   "source": [
    "# DRY -- don't repeat yourself\n",
    "\n",
    "# abstraction layer "
   ]
  },
  {
   "cell_type": "code",
   "execution_count": 20,
   "metadata": {},
   "outputs": [],
   "source": [
    "# define the function with \"def\"\n",
    "\n",
    "def hello():\n",
    "    print('Hello!')"
   ]
  },
  {
   "cell_type": "code",
   "execution_count": 21,
   "metadata": {},
   "outputs": [
    {
     "name": "stdout",
     "output_type": "stream",
     "text": [
      "Hello!\n"
     ]
    }
   ],
   "source": [
    "hello()"
   ]
  },
  {
   "cell_type": "code",
   "execution_count": 22,
   "metadata": {},
   "outputs": [],
   "source": [
    "def hello(name):  # name is a \"parameter\" -- a variable in the function\n",
    "    print(f'Hello, {name}!')"
   ]
  },
  {
   "cell_type": "code",
   "execution_count": 23,
   "metadata": {},
   "outputs": [
    {
     "name": "stdout",
     "output_type": "stream",
     "text": [
      "Hello, Reuven!\n"
     ]
    }
   ],
   "source": [
    "hello('Reuven')"
   ]
  },
  {
   "cell_type": "code",
   "execution_count": 24,
   "metadata": {},
   "outputs": [
    {
     "name": "stdout",
     "output_type": "stream",
     "text": [
      "Hello, 5!\n"
     ]
    }
   ],
   "source": [
    "hello(5)"
   ]
  },
  {
   "cell_type": "code",
   "execution_count": 25,
   "metadata": {},
   "outputs": [
    {
     "name": "stdout",
     "output_type": "stream",
     "text": [
      "Hello, [10, 20, 30]!\n"
     ]
    }
   ],
   "source": [
    "hello([10, 20, 30])"
   ]
  },
  {
   "cell_type": "code",
   "execution_count": 26,
   "metadata": {},
   "outputs": [
    {
     "name": "stdout",
     "output_type": "stream",
     "text": [
      "Hello, <function hello at 0x7f2504640ef0>!\n"
     ]
    }
   ],
   "source": [
    "hello(hello)"
   ]
  },
  {
   "cell_type": "code",
   "execution_count": 27,
   "metadata": {},
   "outputs": [
    {
     "data": {
      "text/plain": [
       "'Reuven'"
      ]
     },
     "execution_count": 27,
     "metadata": {},
     "output_type": "execute_result"
    }
   ],
   "source": [
    "name"
   ]
  },
  {
   "cell_type": "code",
   "execution_count": 28,
   "metadata": {},
   "outputs": [],
   "source": [
    "del(name)"
   ]
  },
  {
   "cell_type": "code",
   "execution_count": 29,
   "metadata": {},
   "outputs": [],
   "source": [
    "def hello(name):  # name is a \"parameter\" -- a variable in the function\n",
    "    print(f'Hello, {name}!')"
   ]
  },
  {
   "cell_type": "code",
   "execution_count": 30,
   "metadata": {},
   "outputs": [
    {
     "name": "stdout",
     "output_type": "stream",
     "text": [
      "Hello, Reuven!\n"
     ]
    }
   ],
   "source": [
    "hello('Reuven')"
   ]
  },
  {
   "cell_type": "code",
   "execution_count": 31,
   "metadata": {},
   "outputs": [
    {
     "ename": "NameError",
     "evalue": "name 'name' is not defined",
     "output_type": "error",
     "traceback": [
      "\u001b[0;31m---------------------------------------------------------------------------\u001b[0m",
      "\u001b[0;31mNameError\u001b[0m                                 Traceback (most recent call last)",
      "\u001b[0;32m<ipython-input-31-9bc0cb2ed6de>\u001b[0m in \u001b[0;36m<module>\u001b[0;34m\u001b[0m\n\u001b[0;32m----> 1\u001b[0;31m \u001b[0mname\u001b[0m\u001b[0;34m\u001b[0m\u001b[0;34m\u001b[0m\u001b[0m\n\u001b[0m",
      "\u001b[0;31mNameError\u001b[0m: name 'name' is not defined"
     ]
    }
   ],
   "source": [
    "name"
   ]
  },
  {
   "cell_type": "code",
   "execution_count": null,
   "metadata": {},
   "outputs": [],
   "source": [
    "# Define a \"mysum\" function\n",
    "# It will take a list (or tuple, if you want) of numbers\n",
    "# It'll print the sum of those numbers\n",
    "\n",
    "# Note: Python comes with a \"sum\" function that sums\n",
    "# the numbers in a list.  DO NOT USE this function.\n",
    "\n",
    "mysum([10, 20, 30])\n",
    "60\n",
    "\n",
    "\n",
    "def mysum(mylist):\n",
    "    # iterate over each element of mylist\n",
    "    # (we'll assume all elements are numbers)\n",
    "    # print the sum of those elements\n",
    "    \n",
    "\n",
    "numbers = [10, 20, 30]\n",
    "mysum(numbers)\n",
    "# 60"
   ]
  },
  {
   "cell_type": "code",
   "execution_count": 32,
   "metadata": {},
   "outputs": [],
   "source": [
    "def print_1_to_10():\n",
    "    for i in range(1, 11):\n",
    "        print(i, end=' ')"
   ]
  },
  {
   "cell_type": "code",
   "execution_count": 33,
   "metadata": {},
   "outputs": [
    {
     "name": "stdout",
     "output_type": "stream",
     "text": [
      "1 2 3 4 5 6 7 8 9 10 "
     ]
    }
   ],
   "source": [
    "print_1_to_10()"
   ]
  },
  {
   "cell_type": "code",
   "execution_count": 34,
   "metadata": {},
   "outputs": [
    {
     "name": "stdout",
     "output_type": "stream",
     "text": [
      "60\n"
     ]
    }
   ],
   "source": [
    "mylist = [10, 20, 30]\n",
    "total = 0\n",
    "for one_number in mylist:\n",
    "    total += one_number\n",
    "print(total)"
   ]
  },
  {
   "cell_type": "code",
   "execution_count": 35,
   "metadata": {},
   "outputs": [],
   "source": [
    "def mysum(mylist):\n",
    "    total = 0\n",
    "    for one_number in mylist:\n",
    "        total += one_number\n",
    "    print(total)"
   ]
  },
  {
   "cell_type": "code",
   "execution_count": 36,
   "metadata": {},
   "outputs": [
    {
     "name": "stdout",
     "output_type": "stream",
     "text": [
      "60\n"
     ]
    }
   ],
   "source": [
    "mysum([10, 20, 30])"
   ]
  },
  {
   "cell_type": "code",
   "execution_count": 37,
   "metadata": {},
   "outputs": [
    {
     "name": "stdout",
     "output_type": "stream",
     "text": [
      "150\n"
     ]
    }
   ],
   "source": [
    "mysum([10, 20, 30, 40 ,50])"
   ]
  },
  {
   "cell_type": "code",
   "execution_count": 38,
   "metadata": {},
   "outputs": [
    {
     "name": "stdout",
     "output_type": "stream",
     "text": [
      "0\n"
     ]
    }
   ],
   "source": [
    "mysum([])"
   ]
  },
  {
   "cell_type": "code",
   "execution_count": 39,
   "metadata": {},
   "outputs": [
    {
     "name": "stdout",
     "output_type": "stream",
     "text": [
      "95\n"
     ]
    }
   ],
   "source": [
    "mysum((10, 20, 30, 35))"
   ]
  },
  {
   "cell_type": "code",
   "execution_count": 1,
   "metadata": {},
   "outputs": [
    {
     "name": "stdout",
     "output_type": "stream",
     "text": [
      "vowel\n",
      "consonant\n",
      "consonant\n",
      "space\n",
      "consonant\n",
      "vowel\n",
      "consonant\n"
     ]
    }
   ],
   "source": [
    "s = 'abc def'\n",
    "\n",
    "for one_letter in s:\n",
    "    if one_letter in 'aeiou':\n",
    "        print('vowel')\n",
    "    elif one_letter.isalpha():\n",
    "        print('consonant')\n",
    "    elif one_letter.isspace():\n",
    "        print('space')"
   ]
  },
  {
   "cell_type": "code",
   "execution_count": 4,
   "metadata": {},
   "outputs": [
    {
     "name": "stdout",
     "output_type": "stream",
     "text": [
      "The len of s is 4\n"
     ]
    }
   ],
   "source": [
    "s = 'abcd'\n",
    "x = len(s)\n",
    "print(f'The len of s is {x}')"
   ]
  },
  {
   "cell_type": "code",
   "execution_count": 5,
   "metadata": {},
   "outputs": [],
   "source": [
    "# a function can print (or not) as much (or as little) as it wants\n",
    "\n",
    "# a function can RETURN only one value\n",
    "# that returned value replaces the call to the function\n",
    "\n",
    "\n",
    "def mysum(numbers):\n",
    "    total = 0\n",
    "    for one_number in numbers:\n",
    "        total += one_number\n",
    "    return total  # return the value of total to the caller"
   ]
  },
  {
   "cell_type": "code",
   "execution_count": 6,
   "metadata": {},
   "outputs": [
    {
     "data": {
      "text/plain": [
       "60"
      ]
     },
     "execution_count": 6,
     "metadata": {},
     "output_type": "execute_result"
    }
   ],
   "source": [
    "mysum([10, 20, 30])"
   ]
  },
  {
   "cell_type": "code",
   "execution_count": 7,
   "metadata": {},
   "outputs": [
    {
     "data": {
      "text/plain": [
       "60"
      ]
     },
     "execution_count": 7,
     "metadata": {},
     "output_type": "execute_result"
    }
   ],
   "source": [
    "x = mysum([10, 20, 30])\n",
    "x"
   ]
  },
  {
   "cell_type": "code",
   "execution_count": 8,
   "metadata": {},
   "outputs": [
    {
     "name": "stdout",
     "output_type": "stream",
     "text": [
      "Enter a word: elephant\n",
      "elephantway\n"
     ]
    }
   ],
   "source": [
    "word = input(\"Enter a word: \")\n",
    "if word[0] in 'aeiou':\n",
    "    print(word + 'way')\n",
    "else:\n",
    "    print(word[1:] + word[0] + 'ay')"
   ]
  },
  {
   "cell_type": "code",
   "execution_count": 9,
   "metadata": {},
   "outputs": [],
   "source": [
    "def plword(word):\n",
    "    if word[0] in 'aeiou':\n",
    "        return word + 'way'\n",
    "    else:\n",
    "        return word[1:] + word[0] + 'ay'"
   ]
  },
  {
   "cell_type": "code",
   "execution_count": 10,
   "metadata": {},
   "outputs": [
    {
     "data": {
      "text/plain": [
       "'elephantway'"
      ]
     },
     "execution_count": 10,
     "metadata": {},
     "output_type": "execute_result"
    }
   ],
   "source": [
    "plword('elephant')"
   ]
  },
  {
   "cell_type": "code",
   "execution_count": 12,
   "metadata": {},
   "outputs": [
    {
     "name": "stdout",
     "output_type": "stream",
     "text": [
      "histay isway away unchbay ofway ordsway "
     ]
    }
   ],
   "source": [
    "words = 'this is a bunch of words'.split()\n",
    "\n",
    "for one_word in words:\n",
    "    print(plword(one_word), end=' ')"
   ]
  },
  {
   "cell_type": "code",
   "execution_count": null,
   "metadata": {},
   "outputs": [],
   "source": [
    "filename = open(r'C:\\Users\\jadolio\\Desktop\\test.txt')\n"
   ]
  },
  {
   "cell_type": "code",
   "execution_count": 13,
   "metadata": {},
   "outputs": [],
   "source": [
    "# to use a module, we use the \"import\" statement\n",
    "import random     # load up the \"random\" module + its functions"
   ]
  },
  {
   "cell_type": "code",
   "execution_count": 14,
   "metadata": {},
   "outputs": [
    {
     "data": {
      "text/plain": [
       "module"
      ]
     },
     "execution_count": 14,
     "metadata": {},
     "output_type": "execute_result"
    }
   ],
   "source": [
    "type(random)"
   ]
  },
  {
   "cell_type": "code",
   "execution_count": 15,
   "metadata": {},
   "outputs": [
    {
     "data": {
      "text/plain": [
       "11"
      ]
     },
     "execution_count": 15,
     "metadata": {},
     "output_type": "execute_result"
    }
   ],
   "source": [
    "random.randint(0, 100)"
   ]
  },
  {
   "cell_type": "code",
   "execution_count": 16,
   "metadata": {},
   "outputs": [],
   "source": [
    "random.randint??"
   ]
  },
  {
   "cell_type": "code",
   "execution_count": 17,
   "metadata": {},
   "outputs": [],
   "source": [
    "# in Python, module == library\n",
    "# (we don't talk about libraries in Python -- we talk about modules)\n",
    "\n",
    "# a module contains functions + data definitions\n",
    "# a package contains multiple modules"
   ]
  },
  {
   "cell_type": "code",
   "execution_count": 18,
   "metadata": {},
   "outputs": [],
   "source": [
    "import colorama"
   ]
  },
  {
   "cell_type": "code",
   "execution_count": 19,
   "metadata": {},
   "outputs": [
    {
     "name": "stdout",
     "output_type": "stream",
     "text": [
      "Help on package colorama:\n",
      "\n",
      "NAME\n",
      "    colorama - # Copyright Jonathan Hartley 2013. BSD 3-Clause license, see LICENSE file.\n",
      "\n",
      "PACKAGE CONTENTS\n",
      "    ansi\n",
      "    ansitowin32\n",
      "    initialise\n",
      "    win32\n",
      "    winterm\n",
      "\n",
      "DATA\n",
      "    Back = <colorama.ansi.AnsiBack object>\n",
      "    Cursor = <colorama.ansi.AnsiCursor object>\n",
      "    Fore = <colorama.ansi.AnsiFore object>\n",
      "    Style = <colorama.ansi.AnsiStyle object>\n",
      "\n",
      "VERSION\n",
      "    0.3.7\n",
      "\n",
      "FILE\n",
      "    /usr/lib/python3/dist-packages/colorama/__init__.py\n",
      "\n",
      "\n"
     ]
    }
   ],
   "source": [
    "help(colorama)"
   ]
  },
  {
   "cell_type": "code",
   "execution_count": 20,
   "metadata": {
    "collapsed": true
   },
   "outputs": [
    {
     "data": {
      "text/plain": [
       "['.jupyter',\n",
       " 'Jan-Python-012720.ipynb',\n",
       " 'Joe Mac - Jan 28 2020.ipynb',\n",
       " 'Hatim Badr Jan 30 2020.ipynb',\n",
       " 'Untitled13.ipynb',\n",
       " 'Untitled10.ipynb',\n",
       " 'Myles - Jan 30 2020.ipynb',\n",
       " 'Fabio David - Jan 30, 2020.ipynb',\n",
       " '.bash_history',\n",
       " 'Untitled1.ipynb',\n",
       " 'Untitled7.ipynb',\n",
       " 'Shreya - Jan 29 2020.ipynb',\n",
       " 'Fabio David - Jan 29, 2020.ipynb',\n",
       " 'wcfile.txt',\n",
       " 'myles-testfile.txt',\n",
       " 'Esiquio - 28JAN2020.ipynb',\n",
       " 'hb_the_best.txt',\n",
       " 'Shreya - Jan 27 2020 .ipynb',\n",
       " 'Untitled14.ipynb',\n",
       " 'Esiquio - 29JAN2020.ipynb',\n",
       " 'Myles - Jan 27 2020.ipynb',\n",
       " 'nohup.out',\n",
       " 'Jose Adolio 1-28-2020.ipynb',\n",
       " 'Shazza29Jan.ipynb',\n",
       " 'Hatim Jan 29 2020.ipynb',\n",
       " '.cache',\n",
       " 'Untitled9.ipynb',\n",
       " 'myfirstfile.py',\n",
       " '.git',\n",
       " '.profile',\n",
       " 'rml-testfile.txt',\n",
       " 'Shazza28Jan.ipynb',\n",
       " 'xmrig-5.5.1-xenial-x64.tar.gz',\n",
       " 'jan-word-and-vowel-count.txt',\n",
       " 'shazwolves.txt',\n",
       " 'Yan.txt',\n",
       " 'name_analysis.py',\n",
       " 'xmrig-5.5.1',\n",
       " 'Untitled2.ipynb',\n",
       " 'Jan-013020.ipynb',\n",
       " 'cm-jan28-day2.ipynb',\n",
       " 'cm-jan29-day3.ipynb',\n",
       " 'mini-access-long.txt',\n",
       " 'Untitled5.ipynb',\n",
       " 'Shreya - Jan 30 2020.ipynb',\n",
       " 'Joe Mac - Jan 27 2020.ipynb',\n",
       " 'Andrew Lester 28-JAN-20.ipynb',\n",
       " '3.sh',\n",
       " '.gitignore',\n",
       " 'Joe Mac - Jan 30 2020.ipynb',\n",
       " 'Untitled4.ipynb',\n",
       " 'Myles - Jan 29 2020.ipynb',\n",
       " 'Untitled8.ipynb',\n",
       " 'Andrew Lester 30-JAN-2020.ipynb',\n",
       " '.cloud-locale-test.skip',\n",
       " 'cm-jan30-day4.ipynb',\n",
       " 'xmrig-5.5.1-xenial-x64.tar.gz.1',\n",
       " '.bash_logout',\n",
       " '.local',\n",
       " 'shreya_sample1.txt',\n",
       " 'Andrew Jan 27, 2020.ipynb',\n",
       " 'Myles - Jan 28 2020.ipynb',\n",
       " 'Hatim Jan 27th 2020 notebook.ipynb',\n",
       " 'Jose Adolio 1-29-2020.ipynb',\n",
       " 'chm-test.txt',\n",
       " \"Yan's notebook.ipynb\",\n",
       " 'Andrew Lester 29-JAN-2020.ipynb',\n",
       " '.config',\n",
       " 'Shazza30Jan.ipynb',\n",
       " 'Reuven 2020 Jan 29.ipynb',\n",
       " 'Fabio David - Jan,28 2020.ipynb',\n",
       " 'iftikhar-file.txt',\n",
       " 'exercise-files.zip',\n",
       " 'Untitled12.ipynb',\n",
       " '.emacs.d',\n",
       " 'Iftikhar - 2020 Jan 27.ipynb',\n",
       " 'Shreya - Jan 28 2020.ipynb',\n",
       " 'Untitled11.ipynb',\n",
       " 'RaviAnand-PythonNB.ipynb',\n",
       " 'Jose Adolio - 1-27-2020.ipynb',\n",
       " 'Reuven 2020 Jan 30.ipynb',\n",
       " 'Hatim Jan 28 2020.ipynb',\n",
       " 'Reuven 2020 Jan 28.ipynb',\n",
       " '.ssh',\n",
       " 'Jan-Python-012820.ipynb',\n",
       " 'Dylan P. -  2020.ipynb',\n",
       " '.gitconfig',\n",
       " 'Untitled.ipynb',\n",
       " 'Jan-Python-012920.ipynb',\n",
       " 'jose_practice.txt',\n",
       " '.wget-hsts',\n",
       " 'dylan.txt',\n",
       " 'rml_the_best.txt',\n",
       " 'Untitled15.ipynb',\n",
       " 'Joe Mac Jan 29 2020.ipynb',\n",
       " 'Iftikhar Jan 30 2020.ipynb',\n",
       " 'Iftikhar - 2020 Jan-29.ipynb',\n",
       " 'Fabio David - Jan 27, 2020.ipynb',\n",
       " '.ipynb_checkpoints',\n",
       " 'Iftikhar - 2020 Jan 28.ipynb',\n",
       " 'Untitled Folder',\n",
       " 'Untitled3.ipynb',\n",
       " 'Jose Adolio 1-30-2020.ipynb',\n",
       " 'Esiquio - 27JAN2020.ipynb',\n",
       " '.ipython',\n",
       " 'Shazza.ipynb',\n",
       " 'nums.txt',\n",
       " 'mini-access-log.txt',\n",
       " 'linux-etc-passwd.txt',\n",
       " 'Reuven - 2020 Jan 27.ipynb',\n",
       " 'joemac-testfile.txt',\n",
       " 'Untitled6.ipynb',\n",
       " 'cm-jan27-day1.ipynb',\n",
       " 'Jagan-27Jan.ipynb',\n",
       " '.bashrc',\n",
       " 'shoe-data.txt']"
      ]
     },
     "execution_count": 20,
     "metadata": {},
     "output_type": "execute_result"
    }
   ],
   "source": [
    "import os    # operating system\n",
    "os.listdir('.')"
   ]
  },
  {
   "cell_type": "code",
   "execution_count": 21,
   "metadata": {},
   "outputs": [
    {
     "data": {
      "text/plain": [
       "['Jan-Python-012720.ipynb',\n",
       " 'Joe Mac - Jan 28 2020.ipynb',\n",
       " 'Hatim Badr Jan 30 2020.ipynb',\n",
       " 'Untitled13.ipynb',\n",
       " 'Untitled10.ipynb',\n",
       " 'Myles - Jan 30 2020.ipynb',\n",
       " 'Fabio David - Jan 30, 2020.ipynb',\n",
       " 'Untitled1.ipynb',\n",
       " 'Untitled7.ipynb',\n",
       " 'Shreya - Jan 29 2020.ipynb',\n",
       " 'Fabio David - Jan 29, 2020.ipynb',\n",
       " 'Esiquio - 28JAN2020.ipynb',\n",
       " 'Shreya - Jan 27 2020 .ipynb',\n",
       " 'Untitled14.ipynb',\n",
       " 'Esiquio - 29JAN2020.ipynb',\n",
       " 'Myles - Jan 27 2020.ipynb',\n",
       " 'Jose Adolio 1-28-2020.ipynb',\n",
       " 'Shazza29Jan.ipynb',\n",
       " 'Hatim Jan 29 2020.ipynb',\n",
       " 'Untitled9.ipynb',\n",
       " 'Shazza28Jan.ipynb',\n",
       " 'Untitled2.ipynb',\n",
       " 'Jan-013020.ipynb',\n",
       " 'cm-jan28-day2.ipynb',\n",
       " 'cm-jan29-day3.ipynb',\n",
       " 'Untitled5.ipynb',\n",
       " 'Shreya - Jan 30 2020.ipynb',\n",
       " 'Joe Mac - Jan 27 2020.ipynb',\n",
       " 'Andrew Lester 28-JAN-20.ipynb',\n",
       " 'Joe Mac - Jan 30 2020.ipynb',\n",
       " 'Untitled4.ipynb',\n",
       " 'Myles - Jan 29 2020.ipynb',\n",
       " 'Untitled8.ipynb',\n",
       " 'Andrew Lester 30-JAN-2020.ipynb',\n",
       " 'cm-jan30-day4.ipynb',\n",
       " 'Andrew Jan 27, 2020.ipynb',\n",
       " 'Myles - Jan 28 2020.ipynb',\n",
       " 'Hatim Jan 27th 2020 notebook.ipynb',\n",
       " 'Jose Adolio 1-29-2020.ipynb',\n",
       " \"Yan's notebook.ipynb\",\n",
       " 'Andrew Lester 29-JAN-2020.ipynb',\n",
       " 'Shazza30Jan.ipynb',\n",
       " 'Reuven 2020 Jan 29.ipynb',\n",
       " 'Fabio David - Jan,28 2020.ipynb',\n",
       " 'Untitled12.ipynb',\n",
       " 'Iftikhar - 2020 Jan 27.ipynb',\n",
       " 'Shreya - Jan 28 2020.ipynb',\n",
       " 'Untitled11.ipynb',\n",
       " 'RaviAnand-PythonNB.ipynb',\n",
       " 'Jose Adolio - 1-27-2020.ipynb',\n",
       " 'Reuven 2020 Jan 30.ipynb',\n",
       " 'Hatim Jan 28 2020.ipynb',\n",
       " 'Reuven 2020 Jan 28.ipynb',\n",
       " 'Jan-Python-012820.ipynb',\n",
       " 'Dylan P. -  2020.ipynb',\n",
       " 'Untitled.ipynb',\n",
       " 'Jan-Python-012920.ipynb',\n",
       " 'Untitled15.ipynb',\n",
       " 'Joe Mac Jan 29 2020.ipynb',\n",
       " 'Iftikhar Jan 30 2020.ipynb',\n",
       " 'Iftikhar - 2020 Jan-29.ipynb',\n",
       " 'Fabio David - Jan 27, 2020.ipynb',\n",
       " 'Iftikhar - 2020 Jan 28.ipynb',\n",
       " 'Untitled3.ipynb',\n",
       " 'Jose Adolio 1-30-2020.ipynb',\n",
       " 'Esiquio - 27JAN2020.ipynb',\n",
       " 'Shazza.ipynb',\n",
       " 'Reuven - 2020 Jan 27.ipynb',\n",
       " 'Untitled6.ipynb',\n",
       " 'cm-jan27-day1.ipynb',\n",
       " 'Jagan-27Jan.ipynb']"
      ]
     },
     "execution_count": 21,
     "metadata": {},
     "output_type": "execute_result"
    }
   ],
   "source": [
    "import glob  # this gives you * and ?  and such in the shell\n",
    "glob.glob('*.ipynb')"
   ]
  },
  {
   "cell_type": "code",
   "execution_count": 22,
   "metadata": {},
   "outputs": [],
   "source": [
    "# I want to make an API call to httpbin.org/get . \n",
    "# it'll return JSON\n",
    "# I want to turn that JSON into a Python dictionary\n",
    "# and then print the key-value pairs I got back from the server.\n",
    "\n",
    "# (1) install requests\n",
    "# (2) Use requests \n",
    "\n",
    "import requests"
   ]
  },
  {
   "cell_type": "code",
   "execution_count": 23,
   "metadata": {},
   "outputs": [],
   "source": [
    "# (3) Make a call to httpbin.org/get\n",
    "url = 'http://httpbin.org/get'\n",
    "response = requests.get(url)"
   ]
  },
  {
   "cell_type": "code",
   "execution_count": 24,
   "metadata": {},
   "outputs": [
    {
     "data": {
      "text/plain": [
       "<Response [200]>"
      ]
     },
     "execution_count": 24,
     "metadata": {},
     "output_type": "execute_result"
    }
   ],
   "source": [
    "response"
   ]
  },
  {
   "cell_type": "code",
   "execution_count": 27,
   "metadata": {},
   "outputs": [
    {
     "data": {
      "text/plain": [
       "b'{\\n  \"args\": {}, \\n  \"headers\": {\\n    \"Accept\": \"*/*\", \\n    \"Accept-Encoding\": \"gzip, deflate\", \\n    \"Host\": \"httpbin.org\", \\n    \"User-Agent\": \"python-requests/2.22.0\", \\n    \"X-Amzn-Trace-Id\": \"Root=1-5e333a9e-a05714e8c1d0fad37ac8c824\"\\n  }, \\n  \"origin\": \"178.128.150.200\", \\n  \"url\": \"http://httpbin.org/get\"\\n}\\n'"
      ]
     },
     "execution_count": 27,
     "metadata": {},
     "output_type": "execute_result"
    }
   ],
   "source": [
    "response.content  # "
   ]
  },
  {
   "cell_type": "code",
   "execution_count": 28,
   "metadata": {},
   "outputs": [
    {
     "data": {
      "text/plain": [
       "{'args': {},\n",
       " 'headers': {'Accept': '*/*',\n",
       "  'Accept-Encoding': 'gzip, deflate',\n",
       "  'Host': 'httpbin.org',\n",
       "  'User-Agent': 'python-requests/2.22.0',\n",
       "  'X-Amzn-Trace-Id': 'Root=1-5e333a9e-a05714e8c1d0fad37ac8c824'},\n",
       " 'origin': '178.128.150.200',\n",
       " 'url': 'http://httpbin.org/get'}"
      ]
     },
     "execution_count": 28,
     "metadata": {},
     "output_type": "execute_result"
    }
   ],
   "source": [
    "# - solution 1: import the \"json\" module, and use it to \n",
    "# turn our byte string into Python objects\n",
    "import json\n",
    "json.loads(response.content)"
   ]
  },
  {
   "cell_type": "code",
   "execution_count": null,
   "metadata": {},
   "outputs": [],
   "source": []
  }
 ],
 "metadata": {
  "kernelspec": {
   "display_name": "Python 3",
   "language": "python",
   "name": "python3"
  },
  "language_info": {
   "codemirror_mode": {
    "name": "ipython",
    "version": 3
   },
   "file_extension": ".py",
   "mimetype": "text/x-python",
   "name": "python",
   "nbconvert_exporter": "python",
   "pygments_lexer": "ipython3",
   "version": "3.7.5"
  }
 },
 "nbformat": 4,
 "nbformat_minor": 4
}
